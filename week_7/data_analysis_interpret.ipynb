{
  "cells": [
    {
      "cell_type": "markdown",
      "metadata": {
        "id": "62NCkuDPaVMH"
      },
      "source": [
        "# SIT225: Data Analysis & interpretation\n",
        "\n",
        "Run each cell to generate output and finally convert this notebook to PDF."
      ]
    },
    {
      "cell_type": "code",
      "execution_count": 1,
      "metadata": {
        "id": "L0fz1WSjaVMI",
        "outputId": "086028a5-c8d6-43d0-ccb7-5b3d18cbf128",
        "colab": {
          "base_uri": "https://localhost:8080/"
        }
      },
      "outputs": [
        {
          "output_type": "stream",
          "name": "stdout",
          "text": [
            "224833528 Atharva Shaileshbhai Patel\n"
          ]
        }
      ],
      "source": [
        "# Fill in student ID and name\n",
        "#\n",
        "student_id = \"224833528\"\n",
        "student_first_last_name = \"Atharva Shaileshbhai Patel\"\n",
        "print(student_id, student_first_last_name)"
      ]
    },
    {
      "cell_type": "markdown",
      "metadata": {
        "id": "zxZqX-fLaVMJ"
      },
      "source": [
        "# 1. Descriptive Statistics\n",
        "\n",
        "Descriptive statistics summarizes important features of a data set such as:\n",
        "* Count\n",
        "* Sum\n",
        "* Standard deviation\n",
        "* Percentile\n",
        "* Average"
      ]
    },
    {
      "cell_type": "code",
      "execution_count": 2,
      "metadata": {
        "id": "TgD3kGN2aVMJ",
        "outputId": "9cef7d04-6b63-4ea4-cbb3-9371e838912b",
        "colab": {
          "base_uri": "https://localhost:8080/",
          "height": 663
        }
      },
      "outputs": [
        {
          "output_type": "stream",
          "name": "stdout",
          "text": [
            "Requirement already satisfied: pandas in /usr/local/lib/python3.12/dist-packages (2.2.2)\n",
            "Requirement already satisfied: numpy in /usr/local/lib/python3.12/dist-packages (2.0.2)\n",
            "Requirement already satisfied: seaborn in /usr/local/lib/python3.12/dist-packages (0.13.2)\n",
            "Requirement already satisfied: python-dateutil>=2.8.2 in /usr/local/lib/python3.12/dist-packages (from pandas) (2.9.0.post0)\n",
            "Requirement already satisfied: pytz>=2020.1 in /usr/local/lib/python3.12/dist-packages (from pandas) (2025.2)\n",
            "Requirement already satisfied: tzdata>=2022.7 in /usr/local/lib/python3.12/dist-packages (from pandas) (2025.2)\n",
            "Requirement already satisfied: matplotlib!=3.6.1,>=3.4 in /usr/local/lib/python3.12/dist-packages (from seaborn) (3.10.0)\n",
            "Requirement already satisfied: contourpy>=1.0.1 in /usr/local/lib/python3.12/dist-packages (from matplotlib!=3.6.1,>=3.4->seaborn) (1.3.3)\n",
            "Requirement already satisfied: cycler>=0.10 in /usr/local/lib/python3.12/dist-packages (from matplotlib!=3.6.1,>=3.4->seaborn) (0.12.1)\n",
            "Requirement already satisfied: fonttools>=4.22.0 in /usr/local/lib/python3.12/dist-packages (from matplotlib!=3.6.1,>=3.4->seaborn) (4.59.1)\n",
            "Requirement already satisfied: kiwisolver>=1.3.1 in /usr/local/lib/python3.12/dist-packages (from matplotlib!=3.6.1,>=3.4->seaborn) (1.4.9)\n",
            "Requirement already satisfied: packaging>=20.0 in /usr/local/lib/python3.12/dist-packages (from matplotlib!=3.6.1,>=3.4->seaborn) (25.0)\n",
            "Requirement already satisfied: pillow>=8 in /usr/local/lib/python3.12/dist-packages (from matplotlib!=3.6.1,>=3.4->seaborn) (11.3.0)\n",
            "Requirement already satisfied: pyparsing>=2.3.1 in /usr/local/lib/python3.12/dist-packages (from matplotlib!=3.6.1,>=3.4->seaborn) (3.2.3)\n",
            "Requirement already satisfied: six>=1.5 in /usr/local/lib/python3.12/dist-packages (from python-dateutil>=2.8.2->pandas) (1.17.0)\n"
          ]
        },
        {
          "output_type": "display_data",
          "data": {
            "text/plain": [
              "<IPython.core.display.HTML object>"
            ],
            "text/html": [
              "\n",
              "     <input type=\"file\" id=\"files-4e6a5f42-1d3f-4948-b547-da75c45f9bb0\" name=\"files[]\" multiple disabled\n",
              "        style=\"border:none\" />\n",
              "     <output id=\"result-4e6a5f42-1d3f-4948-b547-da75c45f9bb0\">\n",
              "      Upload widget is only available when the cell has been executed in the\n",
              "      current browser session. Please rerun this cell to enable.\n",
              "      </output>\n",
              "      <script>// Copyright 2017 Google LLC\n",
              "//\n",
              "// Licensed under the Apache License, Version 2.0 (the \"License\");\n",
              "// you may not use this file except in compliance with the License.\n",
              "// You may obtain a copy of the License at\n",
              "//\n",
              "//      http://www.apache.org/licenses/LICENSE-2.0\n",
              "//\n",
              "// Unless required by applicable law or agreed to in writing, software\n",
              "// distributed under the License is distributed on an \"AS IS\" BASIS,\n",
              "// WITHOUT WARRANTIES OR CONDITIONS OF ANY KIND, either express or implied.\n",
              "// See the License for the specific language governing permissions and\n",
              "// limitations under the License.\n",
              "\n",
              "/**\n",
              " * @fileoverview Helpers for google.colab Python module.\n",
              " */\n",
              "(function(scope) {\n",
              "function span(text, styleAttributes = {}) {\n",
              "  const element = document.createElement('span');\n",
              "  element.textContent = text;\n",
              "  for (const key of Object.keys(styleAttributes)) {\n",
              "    element.style[key] = styleAttributes[key];\n",
              "  }\n",
              "  return element;\n",
              "}\n",
              "\n",
              "// Max number of bytes which will be uploaded at a time.\n",
              "const MAX_PAYLOAD_SIZE = 100 * 1024;\n",
              "\n",
              "function _uploadFiles(inputId, outputId) {\n",
              "  const steps = uploadFilesStep(inputId, outputId);\n",
              "  const outputElement = document.getElementById(outputId);\n",
              "  // Cache steps on the outputElement to make it available for the next call\n",
              "  // to uploadFilesContinue from Python.\n",
              "  outputElement.steps = steps;\n",
              "\n",
              "  return _uploadFilesContinue(outputId);\n",
              "}\n",
              "\n",
              "// This is roughly an async generator (not supported in the browser yet),\n",
              "// where there are multiple asynchronous steps and the Python side is going\n",
              "// to poll for completion of each step.\n",
              "// This uses a Promise to block the python side on completion of each step,\n",
              "// then passes the result of the previous step as the input to the next step.\n",
              "function _uploadFilesContinue(outputId) {\n",
              "  const outputElement = document.getElementById(outputId);\n",
              "  const steps = outputElement.steps;\n",
              "\n",
              "  const next = steps.next(outputElement.lastPromiseValue);\n",
              "  return Promise.resolve(next.value.promise).then((value) => {\n",
              "    // Cache the last promise value to make it available to the next\n",
              "    // step of the generator.\n",
              "    outputElement.lastPromiseValue = value;\n",
              "    return next.value.response;\n",
              "  });\n",
              "}\n",
              "\n",
              "/**\n",
              " * Generator function which is called between each async step of the upload\n",
              " * process.\n",
              " * @param {string} inputId Element ID of the input file picker element.\n",
              " * @param {string} outputId Element ID of the output display.\n",
              " * @return {!Iterable<!Object>} Iterable of next steps.\n",
              " */\n",
              "function* uploadFilesStep(inputId, outputId) {\n",
              "  const inputElement = document.getElementById(inputId);\n",
              "  inputElement.disabled = false;\n",
              "\n",
              "  const outputElement = document.getElementById(outputId);\n",
              "  outputElement.innerHTML = '';\n",
              "\n",
              "  const pickedPromise = new Promise((resolve) => {\n",
              "    inputElement.addEventListener('change', (e) => {\n",
              "      resolve(e.target.files);\n",
              "    });\n",
              "  });\n",
              "\n",
              "  const cancel = document.createElement('button');\n",
              "  inputElement.parentElement.appendChild(cancel);\n",
              "  cancel.textContent = 'Cancel upload';\n",
              "  const cancelPromise = new Promise((resolve) => {\n",
              "    cancel.onclick = () => {\n",
              "      resolve(null);\n",
              "    };\n",
              "  });\n",
              "\n",
              "  // Wait for the user to pick the files.\n",
              "  const files = yield {\n",
              "    promise: Promise.race([pickedPromise, cancelPromise]),\n",
              "    response: {\n",
              "      action: 'starting',\n",
              "    }\n",
              "  };\n",
              "\n",
              "  cancel.remove();\n",
              "\n",
              "  // Disable the input element since further picks are not allowed.\n",
              "  inputElement.disabled = true;\n",
              "\n",
              "  if (!files) {\n",
              "    return {\n",
              "      response: {\n",
              "        action: 'complete',\n",
              "      }\n",
              "    };\n",
              "  }\n",
              "\n",
              "  for (const file of files) {\n",
              "    const li = document.createElement('li');\n",
              "    li.append(span(file.name, {fontWeight: 'bold'}));\n",
              "    li.append(span(\n",
              "        `(${file.type || 'n/a'}) - ${file.size} bytes, ` +\n",
              "        `last modified: ${\n",
              "            file.lastModifiedDate ? file.lastModifiedDate.toLocaleDateString() :\n",
              "                                    'n/a'} - `));\n",
              "    const percent = span('0% done');\n",
              "    li.appendChild(percent);\n",
              "\n",
              "    outputElement.appendChild(li);\n",
              "\n",
              "    const fileDataPromise = new Promise((resolve) => {\n",
              "      const reader = new FileReader();\n",
              "      reader.onload = (e) => {\n",
              "        resolve(e.target.result);\n",
              "      };\n",
              "      reader.readAsArrayBuffer(file);\n",
              "    });\n",
              "    // Wait for the data to be ready.\n",
              "    let fileData = yield {\n",
              "      promise: fileDataPromise,\n",
              "      response: {\n",
              "        action: 'continue',\n",
              "      }\n",
              "    };\n",
              "\n",
              "    // Use a chunked sending to avoid message size limits. See b/62115660.\n",
              "    let position = 0;\n",
              "    do {\n",
              "      const length = Math.min(fileData.byteLength - position, MAX_PAYLOAD_SIZE);\n",
              "      const chunk = new Uint8Array(fileData, position, length);\n",
              "      position += length;\n",
              "\n",
              "      const base64 = btoa(String.fromCharCode.apply(null, chunk));\n",
              "      yield {\n",
              "        response: {\n",
              "          action: 'append',\n",
              "          file: file.name,\n",
              "          data: base64,\n",
              "        },\n",
              "      };\n",
              "\n",
              "      let percentDone = fileData.byteLength === 0 ?\n",
              "          100 :\n",
              "          Math.round((position / fileData.byteLength) * 100);\n",
              "      percent.textContent = `${percentDone}% done`;\n",
              "\n",
              "    } while (position < fileData.byteLength);\n",
              "  }\n",
              "\n",
              "  // All done.\n",
              "  yield {\n",
              "    response: {\n",
              "      action: 'complete',\n",
              "    }\n",
              "  };\n",
              "}\n",
              "\n",
              "scope.google = scope.google || {};\n",
              "scope.google.colab = scope.google.colab || {};\n",
              "scope.google.colab._files = {\n",
              "  _uploadFiles,\n",
              "  _uploadFilesContinue,\n",
              "};\n",
              "})(self);\n",
              "</script> "
            ]
          },
          "metadata": {}
        },
        {
          "output_type": "stream",
          "name": "stdout",
          "text": [
            "Saving full_health_data.csv to full_health_data.csv\n",
            "         Duration  Average_Pulse   Max_Pulse  Calorie_Burnage  Hours_Work  \\\n",
            "count  163.000000     163.000000  163.000000       163.000000  163.000000   \n",
            "mean    64.263804     107.723926  134.226994       382.368098    4.386503   \n",
            "std     42.994520      14.625062   16.403967       274.227106    3.923772   \n",
            "min     15.000000      80.000000  100.000000        50.000000    0.000000   \n",
            "25%     45.000000     100.000000  124.000000       256.500000    0.000000   \n",
            "50%     60.000000     105.000000  131.000000       320.000000    5.000000   \n",
            "75%     60.000000     111.000000  141.000000       388.500000    8.000000   \n",
            "max    300.000000     159.000000  184.000000      1860.000000   11.000000   \n",
            "\n",
            "       Hours_Sleep  \n",
            "count   163.000000  \n",
            "mean      7.680982  \n",
            "std       0.663934  \n",
            "min       5.000000  \n",
            "25%       7.500000  \n",
            "50%       8.000000  \n",
            "75%       8.000000  \n",
            "max      12.000000  \n"
          ]
        }
      ],
      "source": [
        "# Make sure necessary packages are already installed.\n",
        "!pip install pandas numpy seaborn\n",
        "\n",
        "import pandas as pd\n",
        "import numpy as np\n",
        "import seaborn as sns\n",
        "from google.colab import files\n",
        "uploaded = files.upload()\n",
        "\n",
        "\n",
        "full_health_data = pd.read_csv(\"full_health_data.csv\", header=0, sep=\",\")\n",
        "print (full_health_data.describe())"
      ]
    },
    {
      "cell_type": "markdown",
      "metadata": {
        "id": "XnJ1qcaUaVMJ"
      },
      "source": [
        "## 1.1 Percentile\n",
        "### 25%, 50% and 75% - Percentiles\n",
        "\n",
        "Observe the output of the above cell for 25%, 50% and 75% of all the columns.\n",
        "Let's explain for Average_Pulse:\n",
        "* 25% of all of the training sessions have an average pulse of 100 beats per minute or lower. If we flip the statement, it means that 75% of all of the training sessions have an average pulse of 100 beats per minute or higher.\n",
        "* 75% of all the training session have an average pulse of 111 or lower. If we flip the statement, it means that 25% of all of the training sessions have an average pulse of 111 beats per minute or higher."
      ]
    },
    {
      "cell_type": "code",
      "execution_count": 3,
      "metadata": {
        "id": "q3yZdqhNaVMJ",
        "outputId": "d1b74740-267a-4561-8c54-42af7a3082ff",
        "colab": {
          "base_uri": "https://localhost:8080/"
        }
      },
      "outputs": [
        {
          "output_type": "stream",
          "name": "stdout",
          "text": [
            "parcentile_10 92.2\n",
            "parcentile_25 100.0\n",
            "parcentile_50 105.0\n",
            "parcentile_75 111.0\n"
          ]
        }
      ],
      "source": [
        "avg_pulse = full_health_data[\"Average_Pulse\"]\n",
        "print(\"parcentile_10\", np.percentile(avg_pulse, 10) )\n",
        "print(\"parcentile_25\", np.percentile(avg_pulse, 25) )\n",
        "print(\"parcentile_50\", np.percentile(avg_pulse, 50) )\n",
        "print(\"parcentile_75\", np.percentile(avg_pulse, 75) )\n",
        "\n"
      ]
    },
    {
      "cell_type": "markdown",
      "metadata": {
        "id": "AdUh24PLaVMJ"
      },
      "source": [
        "### Question: Calculate percentiles for Max_Pulse.\n",
        "You should answer a follow up question in the activity sheet."
      ]
    },
    {
      "cell_type": "markdown",
      "metadata": {
        "id": "oNN5fq2LaVMK"
      },
      "source": [
        "## 1.2 Standard Deviation\n",
        "Standard deviation is a number that describes how spread out the observations are.\n",
        "\n",
        "A mathematical function will have difficulties in predicting precise values, if the observations are \"spread\". Standard deviation is a measure of uncertainty.\n",
        "\n",
        "A low standard deviation means that most of the numbers are close to the mean (average) value.\n",
        "\n",
        "A high standard deviation means that the values are spread out over a wider range."
      ]
    },
    {
      "cell_type": "code",
      "execution_count": 4,
      "metadata": {
        "id": "ANWouqOwaVMK",
        "outputId": "6e055b95-907d-4d18-ddaf-53f3e1170354",
        "colab": {
          "base_uri": "https://localhost:8080/"
        }
      },
      "outputs": [
        {
          "output_type": "stream",
          "name": "stdout",
          "text": [
            "Duration            42.862432\n",
            "Average_Pulse       14.580131\n",
            "Max_Pulse           16.353571\n",
            "Calorie_Burnage    273.384624\n",
            "Hours_Work           3.911718\n",
            "Hours_Sleep          0.661895\n",
            "dtype: float64\n"
          ]
        },
        {
          "output_type": "stream",
          "name": "stderr",
          "text": [
            "/usr/local/lib/python3.12/dist-packages/numpy/_core/fromnumeric.py:3800: FutureWarning: The behavior of DataFrame.std with axis=None is deprecated, in a future version this will reduce over both axes and return a scalar. To retain the old behavior, pass axis=0 (or do not pass axis)\n",
            "  return std(axis=axis, dtype=dtype, out=out, ddof=ddof, **kwargs)\n"
          ]
        }
      ],
      "source": [
        "import numpy as np\n",
        "\n",
        "# We can use the std() function from Numpy to find the standard deviation of a variable:\n",
        "\n",
        "std = np.std(full_health_data)\n",
        "print(std)"
      ]
    },
    {
      "cell_type": "markdown",
      "metadata": {
        "id": "D0yUF6BgaVMK"
      },
      "source": [
        "### 1.2.1 Coefficient of variation\n",
        "\n",
        "In the above cell, what does standard deviation numbers mean?\n",
        "\n",
        "The coefficient of variation is used to get an idea of how large the standard deviation is.\n",
        "\n",
        "Mathematically, the coefficient of variation is defined as: $$Coefficient of Variation = Standard Deviation / Mean$$"
      ]
    },
    {
      "cell_type": "code",
      "execution_count": 5,
      "metadata": {
        "id": "vFEdHYYaaVMK",
        "outputId": "65e867ea-792c-498c-c4ee-8d95267360c4",
        "colab": {
          "base_uri": "https://localhost:8080/"
        }
      },
      "outputs": [
        {
          "output_type": "stream",
          "name": "stdout",
          "text": [
            "Duration           0.367051\n",
            "Average_Pulse      0.124857\n",
            "Max_Pulse          0.140043\n",
            "Calorie_Burnage    2.341122\n",
            "Hours_Work         0.033498\n",
            "Hours_Sleep        0.005668\n",
            "dtype: float64\n"
          ]
        }
      ],
      "source": [
        "cv = np.std(full_health_data) / np.mean(full_health_data)\n",
        "print(cv)\n",
        "\n",
        "# We see that the variables Duration and Calorie_Burnage has\n",
        "# a high Standard Deviation compared to Max_Pulse, Average_Pulse and Hours_Sleep.\n",
        "#"
      ]
    },
    {
      "cell_type": "markdown",
      "metadata": {
        "id": "bArRpNsyaVMK"
      },
      "source": [
        "## 1.3 Variance\n",
        "Variance is another number that indicates how spread out the values are.\n",
        "\n",
        "In fact, if you take the square root of the variance, you get the standard deviation. Or the other way around, if you multiply the standard deviation by itself, you get the variance!"
      ]
    },
    {
      "cell_type": "code",
      "execution_count": 6,
      "metadata": {
        "id": "-Vnpoe51aVMK",
        "outputId": "ff03e9c3-a9b6-446b-ff10-5cc4fd4cea69",
        "colab": {
          "base_uri": "https://localhost:8080/"
        }
      },
      "outputs": [
        {
          "output_type": "stream",
          "name": "stdout",
          "text": [
            "Duration            1837.188076\n",
            "Average_Pulse        212.580225\n",
            "Max_Pulse            267.439271\n",
            "Calorie_Burnage    74739.152847\n",
            "Hours_Work            15.301536\n",
            "Hours_Sleep            0.438105\n",
            "dtype: float64\n"
          ]
        },
        {
          "output_type": "stream",
          "name": "stderr",
          "text": [
            "/usr/local/lib/python3.12/dist-packages/numpy/_core/fromnumeric.py:4006: FutureWarning: The behavior of DataFrame.var with axis=None is deprecated, in a future version this will reduce over both axes and return a scalar. To retain the old behavior, pass axis=0 (or do not pass axis)\n",
            "  return var(axis=axis, dtype=dtype, out=out, ddof=ddof, **kwargs)\n"
          ]
        }
      ],
      "source": [
        "var = np.var(full_health_data)\n",
        "print(var)"
      ]
    },
    {
      "cell_type": "markdown",
      "metadata": {
        "id": "gwAMxm9paVMK"
      },
      "source": [
        "## 1.4 Correlation\n",
        "\n",
        "Correlation measures the relationship between two variables.\n",
        "\n",
        "A function has a purpose to predict a value, by converting input (x) to output (f(x)). We can say also say that a function uses the relationship between two variables for prediction.\n",
        "\n",
        "### Correlation Coefficient\n",
        "The correlation coefficient measures the relationship between two variables.\n",
        "\n",
        "The correlation coefficient can never be less than -1 or higher than 1.\n",
        "* 1 = there is a perfect linear relationship between the variables\n",
        "* 0 = there is no linear relationship between the variables\n",
        "* -1 = there is a perfect negative linear relationship between the variables\n",
        "\n",
        "#### Perfect Linear Relationship (Correlation Coefficient = 1)\n",
        "\n",
        "it exists a perfect linear relationship between Average_Pulse and Calorie_Burnage."
      ]
    },
    {
      "cell_type": "code",
      "execution_count": 7,
      "metadata": {
        "id": "sgk0K7QpaVMK",
        "outputId": "d202590e-e587-4c19-8aa9-617f250a1f50",
        "colab": {
          "base_uri": "https://localhost:8080/",
          "height": 450
        }
      },
      "outputs": [
        {
          "output_type": "display_data",
          "data": {
            "text/plain": [
              "<Figure size 640x480 with 1 Axes>"
            ],
            "image/png": "[encoded data removed]"
          },
          "metadata": {}
        }
      ],
      "source": [
        "# Positive correlation\n",
        "#\n",
        "\n",
        "import matplotlib.pyplot as plt\n",
        "\n",
        "def create_linear_health_data():\n",
        "    data = [\n",
        "        {'Duration':30, 'Average_Pulse':80, 'Max_Pulse':120,'Calorie_Burnage':240,'Hours_Work':10,'Hours_Sleep':7},\n",
        "        {'Duration':45, 'Average_Pulse':85, 'Max_Pulse':120,'Calorie_Burnage':250,'Hours_Work':10,'Hours_Sleep':7},\n",
        "        {'Duration':45, 'Average_Pulse':90, 'Max_Pulse':130,'Calorie_Burnage':260,'Hours_Work':8,'Hours_Sleep':7},\n",
        "        {'Duration':60, 'Average_Pulse':95, 'Max_Pulse':130,'Calorie_Burnage':270,'Hours_Work':8,'Hours_Sleep':7},\n",
        "        {'Duration':60, 'Average_Pulse':100, 'Max_Pulse':140,'Calorie_Burnage':280,'Hours_Work':0,'Hours_Sleep':7},\n",
        "        {'Duration':60, 'Average_Pulse':105, 'Max_Pulse':140,'Calorie_Burnage':290,'Hours_Work':7,'Hours_Sleep':8},\n",
        "        {'Duration':60, 'Average_Pulse':110, 'Max_Pulse':145,'Calorie_Burnage':300,'Hours_Work':7,'Hours_Sleep':8},\n",
        "        {'Duration':45, 'Average_Pulse':115, 'Max_Pulse':145,'Calorie_Burnage':310,'Hours_Work':8,'Hours_Sleep':8},\n",
        "        {'Duration':60, 'Average_Pulse':120, 'Max_Pulse':150,'Calorie_Burnage':320,'Hours_Work':0,'Hours_Sleep':8},\n",
        "        {'Duration':45, 'Average_Pulse':125, 'Max_Pulse':150,'Calorie_Burnage':330,'Hours_Work':8,'Hours_Sleep':8},\n",
        "    ]\n",
        "    return data\n",
        "\n",
        "health_data = pd.DataFrame.from_dict(create_linear_health_data())\n",
        "health_data.plot(x ='Average_Pulse', y='Calorie_Burnage', kind='scatter')\n",
        "plt.show()"
      ]
    },
    {
      "cell_type": "markdown",
      "metadata": {
        "id": "FKlV4wF-aVML"
      },
      "source": [
        "#### Perfect Negative Linear Relationship (Correlation Coefficient = -1)\n",
        "\n",
        "We have plotted fictional data here. The x-axis represents the amount of hours worked at our job before a training session. The y-axis is Calorie_Burnage.\n",
        "\n",
        "If we work longer hours, we tend to have lower calorie burnage because we are exhausted before the training session.\n",
        "\n",
        "The correlation coefficient here is -1."
      ]
    },
    {
      "cell_type": "code",
      "execution_count": 8,
      "metadata": {
        "id": "nxUXpX6BaVML",
        "outputId": "e65fdd35-dbd3-4e7f-b76d-1fcc310ef1b0",
        "colab": {
          "base_uri": "https://localhost:8080/",
          "height": 450
        }
      },
      "outputs": [
        {
          "output_type": "display_data",
          "data": {
            "text/plain": [
              "<Figure size 640x480 with 1 Axes>"
            ],
            "image/png": "[encoded data removed]"
          },
          "metadata": {}
        }
      ],
      "source": [
        "# Negative correlation\n",
        "#\n",
        "negative_corr = {'Hours_Work_Before_Training': [10,9,8,7,6,5,4,3,2,1],\n",
        "'Calorie_Burnage': [220,240,260,280,300,320,340,360,380,400]}\n",
        "negative_corr = pd.DataFrame(data=negative_corr)\n",
        "\n",
        "negative_corr.plot(x ='Hours_Work_Before_Training', y='Calorie_Burnage', kind='scatter')\n",
        "plt.show()"
      ]
    },
    {
      "cell_type": "markdown",
      "metadata": {
        "id": "NBFHpv1XaVML"
      },
      "source": [
        "##### No Linear Relationship (Correlation coefficient = 0)\n",
        "\n",
        "As you can see, there is no linear relationship between the two variables. It means that longer training session does not lead to higher Max_Pulse.\n",
        "\n",
        "The correlation coefficient here is 0."
      ]
    },
    {
      "cell_type": "code",
      "execution_count": 9,
      "metadata": {
        "id": "S07W94sgaVML",
        "outputId": "22b01f52-ed06-4a73-b965-a566f7d99c7f",
        "colab": {
          "base_uri": "https://localhost:8080/",
          "height": 449
        }
      },
      "outputs": [
        {
          "output_type": "display_data",
          "data": {
            "text/plain": [
              "<Figure size 640x480 with 1 Axes>"
            ],
            "image/png": "[encoded data removed]"
          },
          "metadata": {}
        }
      ],
      "source": [
        "full_health_data.plot(x ='Duration', y='Max_Pulse', kind='scatter')\n",
        "plt.show()"
      ]
    },
    {
      "cell_type": "markdown",
      "metadata": {
        "id": "RraFt3AHaVML"
      },
      "source": [
        "## 1.5 Correlation Matrix\n",
        "\n",
        "A matrix is an array of numbers arranged in rows and columns.\n",
        "\n",
        "A correlation matrix is simply a table showing the correlation coefficients between variables.\n",
        "\n",
        "We can use the corr() function in Python to create a correlation matrix. We also use the round() function to round the output to two decimals:"
      ]
    },
    {
      "cell_type": "code",
      "execution_count": 10,
      "metadata": {
        "id": "buUPUkhCaVML",
        "outputId": "1eab5d82-17bc-4b57-cee9-69f381862227",
        "colab": {
          "base_uri": "https://localhost:8080/"
        }
      },
      "outputs": [
        {
          "output_type": "stream",
          "name": "stdout",
          "text": [
            "                 Duration  Average_Pulse  Max_Pulse  Calorie_Burnage  \\\n",
            "Duration             1.00          -0.17       0.00             0.89   \n",
            "Average_Pulse       -0.17           1.00       0.79             0.02   \n",
            "Max_Pulse            0.00           0.79       1.00             0.20   \n",
            "Calorie_Burnage      0.89           0.02       0.20             1.00   \n",
            "Hours_Work          -0.12          -0.28      -0.27            -0.14   \n",
            "Hours_Sleep          0.07           0.03       0.09             0.08   \n",
            "\n",
            "                 Hours_Work  Hours_Sleep  \n",
            "Duration              -0.12         0.07  \n",
            "Average_Pulse         -0.28         0.03  \n",
            "Max_Pulse             -0.27         0.09  \n",
            "Calorie_Burnage       -0.14         0.08  \n",
            "Hours_Work             1.00        -0.14  \n",
            "Hours_Sleep           -0.14         1.00  \n",
            "                 Duration  Average_Pulse  Max_Pulse  Calorie_Burnage\n",
            "Duration             1.00          -0.17       0.00             0.89\n",
            "Average_Pulse       -0.17           1.00       0.79             0.02\n",
            "Max_Pulse            0.00           0.79       1.00             0.20\n",
            "Calorie_Burnage      0.89           0.02       0.20             1.00\n"
          ]
        }
      ],
      "source": [
        "Corr_Matrix = round(full_health_data.corr(),2)\n",
        "print(Corr_Matrix)\n",
        "\n",
        "# Drop 2 columns - Hours_Work and Hours_Sleep to view the matrix nice.\n",
        "#\n",
        "health_part = full_health_data.drop(columns=['Hours_Work', 'Hours_Sleep'])\n",
        "Corr_Matrix = round(health_part.corr(),2)\n",
        "print(Corr_Matrix)"
      ]
    },
    {
      "cell_type": "markdown",
      "metadata": {
        "id": "JGfHZcH6aVML"
      },
      "source": [
        "##### Using a Heatmap\n",
        "\n",
        "We can use a Heatmap to Visualize the Correlation Between Variables:"
      ]
    },
    {
      "cell_type": "code",
      "execution_count": 11,
      "metadata": {
        "id": "9rFHq6YHaVML",
        "outputId": "d6ce2679-58fc-4ed7-cd00-730ece5db065",
        "colab": {
          "base_uri": "https://localhost:8080/",
          "height": 536
        }
      },
      "outputs": [
        {
          "output_type": "display_data",
          "data": {
            "text/plain": [
              "<Figure size 640x480 with 2 Axes>"
            ],
            "image/png": "[encoded data removed]"
          },
          "metadata": {}
        }
      ],
      "source": [
        "import matplotlib.pyplot as plt\n",
        "import seaborn as sns\n",
        "\n",
        "correlation_full_health = full_health_data.corr()\n",
        "\n",
        "axis_corr = sns.heatmap(\n",
        "    correlation_full_health,\n",
        "    vmin=-1, vmax=1, center=0,\n",
        "    cmap=sns.diverging_palette(50, 500, n=500),\n",
        "    square=True\n",
        ")\n",
        "\n",
        "plt.show()"
      ]
    },
    {
      "cell_type": "markdown",
      "metadata": {
        "id": "VsIVGLVbaVMM"
      },
      "source": [
        "## 1.6 Correlation Does not imply Causality\n",
        "\n",
        "Correlation measures the numerical relationship between two variables.\n",
        "\n",
        "A high correlation coefficient (close to 1), does not mean that we can for sure conclude an actual relationship between two variables.\n",
        "\n",
        "A classic example:\n",
        "\n",
        "* During the summer, the sale of ice cream at a beach increases\n",
        "* Simultaneously, drowning accidents also increase as well\n",
        "\n",
        "**Question:** Does this mean that increase of ice cream sale is a direct cause of increased drowning accidents?\n",
        "\n"
      ]
    },
    {
      "cell_type": "markdown",
      "metadata": {
        "id": "Ii_DkieLaVMM"
      },
      "source": [
        "## 1.7 Linear Regression\n",
        "\n",
        "The term regression is used when you try to find the relationship between variables.\n",
        "\n",
        "In Machine Learning and in statistical modeling, that relationship is used to predict the outcome of events.\n",
        "\n",
        "We will use Scikit-learn to train various regression models. Scikit-learn is a popular Machine Learning (ML) library that offers various tools for creating and training ML algorithms, feature engineering, data cleaning, and evaluating and testing models. It was designed to be accessible, and to work seamlessly with popular libraries like NumPy and Pandas.\n",
        "\n",
        "We see how to apply a simple regression model for predicting Calorie_Burnage on various factors such as Average_Pulse or Duration.\n"
      ]
    },
    {
      "cell_type": "code",
      "execution_count": 12,
      "metadata": {
        "id": "wD-mS5vDaVMM",
        "outputId": "5abb7da2-910b-4825-ede5-2faf12f4707f",
        "colab": {
          "base_uri": "https://localhost:8080/",
          "height": 837
        }
      },
      "outputs": [
        {
          "output_type": "stream",
          "name": "stdout",
          "text": [
            "Requirement already satisfied: seaborn in /usr/local/lib/python3.12/dist-packages (0.13.2)\n",
            "Requirement already satisfied: plotly in /usr/local/lib/python3.12/dist-packages (5.24.1)\n",
            "Requirement already satisfied: numpy!=1.24.0,>=1.20 in /usr/local/lib/python3.12/dist-packages (from seaborn) (2.0.2)\n",
            "Requirement already satisfied: pandas>=1.2 in /usr/local/lib/python3.12/dist-packages (from seaborn) (2.2.2)\n",
            "Requirement already satisfied: matplotlib!=3.6.1,>=3.4 in /usr/local/lib/python3.12/dist-packages (from seaborn) (3.10.0)\n",
            "Requirement already satisfied: tenacity>=6.2.0 in /usr/local/lib/python3.12/dist-packages (from plotly) (8.5.0)\n",
            "Requirement already satisfied: packaging in /usr/local/lib/python3.12/dist-packages (from plotly) (25.0)\n",
            "Requirement already satisfied: contourpy>=1.0.1 in /usr/local/lib/python3.12/dist-packages (from matplotlib!=3.6.1,>=3.4->seaborn) (1.3.3)\n",
            "Requirement already satisfied: cycler>=0.10 in /usr/local/lib/python3.12/dist-packages (from matplotlib!=3.6.1,>=3.4->seaborn) (0.12.1)\n",
            "Requirement already satisfied: fonttools>=4.22.0 in /usr/local/lib/python3.12/dist-packages (from matplotlib!=3.6.1,>=3.4->seaborn) (4.59.1)\n",
            "Requirement already satisfied: kiwisolver>=1.3.1 in /usr/local/lib/python3.12/dist-packages (from matplotlib!=3.6.1,>=3.4->seaborn) (1.4.9)\n",
            "Requirement already satisfied: pillow>=8 in /usr/local/lib/python3.12/dist-packages (from matplotlib!=3.6.1,>=3.4->seaborn) (11.3.0)\n",
            "Requirement already satisfied: pyparsing>=2.3.1 in /usr/local/lib/python3.12/dist-packages (from matplotlib!=3.6.1,>=3.4->seaborn) (3.2.3)\n",
            "Requirement already satisfied: python-dateutil>=2.7 in /usr/local/lib/python3.12/dist-packages (from matplotlib!=3.6.1,>=3.4->seaborn) (2.9.0.post0)\n",
            "Requirement already satisfied: pytz>=2020.1 in /usr/local/lib/python3.12/dist-packages (from pandas>=1.2->seaborn) (2025.2)\n",
            "Requirement already satisfied: tzdata>=2022.7 in /usr/local/lib/python3.12/dist-packages (from pandas>=1.2->seaborn) (2025.2)\n",
            "Requirement already satisfied: six>=1.5 in /usr/local/lib/python3.12/dist-packages (from python-dateutil>=2.7->matplotlib!=3.6.1,>=3.4->seaborn) (1.17.0)\n"
          ]
        },
        {
          "output_type": "display_data",
          "data": {
            "text/html": [
              "<html>\n",
              "<head><meta charset=\"utf-8\" /></head>\n",
              "<body>\n",
              "    <div>            <script src=\"https://cdnjs.cloudflare.com/ajax/libs/mathjax/2.7.5/MathJax.js?config=TeX-AMS-MML_SVG\"></script><script type=\"text/javascript\">if (window.MathJax && window.MathJax.Hub && window.MathJax.Hub.Config) {window.MathJax.Hub.Config({SVG: {font: \"STIX-Web\"}});}</script>                <script type=\"text/javascript\">window.PlotlyConfig = {MathJaxConfig: 'local'};</script>\n",
              "        <script charset=\"utf-8\" src=\"https://cdn.plot.ly/plotly-2.35.2.min.js\"></script>                <div id=\"b75c7488-e6b9-4904-8c83-7e054ff74821\" class=\"plotly-graph-div\" style=\"height:525px; width:100%;\"></div>            <script type=\"text/javascript\">                                    window.PLOTLYENV=window.PLOTLYENV || {};                                    if (document.getElementById(\"b75c7488-e6b9-4904-8c83-7e054ff74821\")) {                    Plotly.newPlot(                        \"b75c7488-e6b9-4904-8c83-7e054ff74821\",                        [{\"hovertemplate\":\"Average_Pulse=%{x}\\u003cbr\\u003eCalorie_Burnage=%{y}\\u003cextra\\u003e\\u003c\\u002fextra\\u003e\",\"legendgroup\":\"\",\"marker\":{\"color\":\"#636efa\",\"opacity\":0.65,\"symbol\":\"circle\"},\"mode\":\"markers\",\"name\":\"\",\"orientation\":\"v\",\"showlegend\":false,\"x\":[110,117,103,109,117,102,110,104,109,98,103,100,106,104,98,98,100,90,103,97,108,100,130,105,102,100,92,103,100,102,92,101,93,107,114,100,100,104,98,100,111,111,99,109,111,108,111,107,123,106,118,136,121,118,115,153,123,108,110,109,118,110,90,105,107,106,108,97,100,97,114,98,105,110,100,100,159,149,103,100,100,151,102,100,129,83,101,107,90,80,150,151,95,152,109,93,95,90,90,90,92,93,90,90,90,137,102,107,124,108,108,116,97,105,103,112,100,119,107,111,98,97,109,99,114,104,107,103,106,103,136,117,115,113,141,108,97,100,122,136,106,107,112,103,110,106,109,109,150,105,97,100,114,80,85,90,95,100,105,110,115,120,125],\"xaxis\":\"x\",\"y\":[409,479,340,282,406,300,374,253,195,269,329,250,345,379,275,215,300,180,323,243,364,282,300,246,334,250,241,353,280,380,243,299,223,361,415,300,300,266,286,329,400,397,273,387,300,298,397,380,643,263,486,238,450,413,305,226,321,1376,1034,853,341,131,800,873,816,110,1500,1115,700,953,304,563,251,300,500,1729,319,344,151,500,225,300,234,1000,242,50,600,1200,105,50,127,229,128,244,188,604,77,500,500,500,92,124,800,86,500,1860,325,275,124,367,351,443,277,353,332,193,100,336,344,368,271,275,382,466,384,342,357,335,327,339,189,317,318,308,222,390,288,250,335,470,270,400,361,185,409,343,353,374,275,328,270,270,382,240,250,260,270,280,290,300,310,320,330],\"yaxis\":\"y\",\"type\":\"scatter\"},{\"name\":\"Regression Fit\",\"x\":[80.0,80.79797979797979,81.5959595959596,82.39393939393939,83.1919191919192,83.98989898989899,84.78787878787878,85.58585858585859,86.38383838383838,87.18181818181819,87.97979797979798,88.77777777777777,89.57575757575758,90.37373737373737,91.17171717171718,91.96969696969697,92.76767676767676,93.56565656565657,94.36363636363636,95.16161616161617,95.95959595959596,96.75757575757575,97.55555555555556,98.35353535353535,99.15151515151516,99.94949494949495,100.74747474747474,101.54545454545455,102.34343434343435,103.14141414141415,103.93939393939394,104.73737373737373,105.53535353535354,106.33333333333334,107.13131313131314,107.92929292929293,108.72727272727272,109.52525252525253,110.32323232323233,111.12121212121212,111.91919191919192,112.71717171717171,113.51515151515152,114.31313131313132,115.11111111111111,115.9090909090909,116.7070707070707,117.5050505050505,118.30303030303031,119.1010101010101,119.8989898989899,120.69696969696969,121.4949494949495,122.2929292929293,123.0909090909091,123.88888888888889,124.68686868686869,125.48484848484848,126.28282828282829,127.08080808080808,127.87878787878788,128.67676767676767,129.47474747474746,130.27272727272728,131.07070707070707,131.86868686868686,132.66666666666669,133.46464646464648,134.26262626262627,135.06060606060606,135.85858585858585,136.65656565656565,137.45454545454544,138.25252525252526,139.05050505050505,139.84848484848484,140.64646464646466,141.44444444444446,142.24242424242425,143.04040404040404,143.83838383838383,144.63636363636363,145.43434343434342,146.23232323232324,147.03030303030303,147.82828282828285,148.62626262626264,149.42424242424244,150.22222222222223,151.02020202020202,151.8181818181818,152.6161616161616,153.4141414141414,154.21212121212122,155.010101010101,155.80808080808083,156.60606060606062,157.40404040404042,158.2020202020202,159.0],\"y\":[373.23130467822136,373.4942896723506,373.7572746664799,374.0202596606091,374.2832446547384,374.54622964886767,374.8092146429969,375.0721996371262,375.33518463125546,375.5981696253847,375.86115461951397,376.12413961364325,376.3871246077725,376.65010960190176,376.91309459603104,377.17607959016027,377.43906458428955,377.70204957841884,377.96503457254806,378.22801956667735,378.4910045608066,378.75398955493586,379.01697454906514,379.27995954319437,379.54294453732365,379.80592953145293,380.06891452558216,380.33189951971144,380.5948845138407,380.85786950796995,381.12085450209923,381.38383949622846,381.64682449035774,381.909809484487,382.1727944786163,382.43577947274554,382.6987644668748,382.96174946100405,383.22473445513333,383.4877194492626,383.75070444339184,384.0136894375211,384.2766744316504,384.53965942577963,384.8026444199089,385.0656294140382,385.3286144081674,385.5915994022967,385.854584396426,386.1175693905552,386.3805543846845,386.6435393788138,386.906524372943,387.1695093670723,387.4324943612015,387.6954793553308,387.9584643494601,388.2214493435893,388.4844343377186,388.7474193318479,389.0104043259771,389.2733893201064,389.5363743142357,389.7993593083649,390.0623443024942,390.32532929662347,390.5883142907527,390.851299284882,391.11428427901126,391.3772692731405,391.64025426726977,391.903239261399,392.1662242555283,392.42920924965756,392.69219424378684,392.95517923791607,393.21816423204535,393.4811492261746,393.74413422030386,394.00711921443315,394.2701042085624,394.53308920269166,394.7960741968209,395.05905919095017,395.32204418507945,395.58502917920873,395.84801417333796,396.11099916746724,396.3739841615965,396.63696915572575,396.89995414985503,397.16293914398426,397.42592413811354,397.6889091322428,397.95189412637205,398.21487912050134,398.4778641146306,398.74084910875985,399.00383410288913,399.2668190970184],\"type\":\"scatter\"}],                        {\"template\":{\"data\":{\"histogram2dcontour\":[{\"type\":\"histogram2dcontour\",\"colorbar\":{\"outlinewidth\":0,\"ticks\":\"\"},\"colorscale\":[[0.0,\"#0d0887\"],[0.1111111111111111,\"#46039f\"],[0.2222222222222222,\"#7201a8\"],[0.3333333333333333,\"#9c179e\"],[0.4444444444444444,\"#bd3786\"],[0.5555555555555556,\"#d8576b\"],[0.6666666666666666,\"#ed7953\"],[0.7777777777777778,\"#fb9f3a\"],[0.8888888888888888,\"#fdca26\"],[1.0,\"#f0f921\"]]}],\"choropleth\":[{\"type\":\"choropleth\",\"colorbar\":{\"outlinewidth\":0,\"ticks\":\"\"}}],\"histogram2d\":[{\"type\":\"histogram2d\",\"colorbar\":{\"outlinewidth\":0,\"ticks\":\"\"},\"colorscale\":[[0.0,\"#0d0887\"],[0.1111111111111111,\"#46039f\"],[0.2222222222222222,\"#7201a8\"],[0.3333333333333333,\"#9c179e\"],[0.4444444444444444,\"#bd3786\"],[0.5555555555555556,\"#d8576b\"],[0.6666666666666666,\"#ed7953\"],[0.7777777777777778,\"#fb9f3a\"],[0.8888888888888888,\"#fdca26\"],[1.0,\"#f0f921\"]]}],\"heatmap\":[{\"type\":\"heatmap\",\"colorbar\":{\"outlinewidth\":0,\"ticks\":\"\"},\"colorscale\":[[0.0,\"#0d0887\"],[0.1111111111111111,\"#46039f\"],[0.2222222222222222,\"#7201a8\"],[0.3333333333333333,\"#9c179e\"],[0.4444444444444444,\"#bd3786\"],[0.5555555555555556,\"#d8576b\"],[0.6666666666666666,\"#ed7953\"],[0.7777777777777778,\"#fb9f3a\"],[0.8888888888888888,\"#fdca26\"],[1.0,\"#f0f921\"]]}],\"heatmapgl\":[{\"type\":\"heatmapgl\",\"colorbar\":{\"outlinewidth\":0,\"ticks\":\"\"},\"colorscale\":[[0.0,\"#0d0887\"],[0.1111111111111111,\"#46039f\"],[0.2222222222222222,\"#7201a8\"],[0.3333333333333333,\"#9c179e\"],[0.4444444444444444,\"#bd3786\"],[0.5555555555555556,\"#d8576b\"],[0.6666666666666666,\"#ed7953\"],[0.7777777777777778,\"#fb9f3a\"],[0.8888888888888888,\"#fdca26\"],[1.0,\"#f0f921\"]]}],\"contourcarpet\":[{\"type\":\"contourcarpet\",\"colorbar\":{\"outlinewidth\":0,\"ticks\":\"\"}}],\"contour\":[{\"type\":\"contour\",\"colorbar\":{\"outlinewidth\":0,\"ticks\":\"\"},\"colorscale\":[[0.0,\"#0d0887\"],[0.1111111111111111,\"#46039f\"],[0.2222222222222222,\"#7201a8\"],[0.3333333333333333,\"#9c179e\"],[0.4444444444444444,\"#bd3786\"],[0.5555555555555556,\"#d8576b\"],[0.6666666666666666,\"#ed7953\"],[0.7777777777777778,\"#fb9f3a\"],[0.8888888888888888,\"#fdca26\"],[1.0,\"#f0f921\"]]}],\"surface\":[{\"type\":\"surface\",\"colorbar\":{\"outlinewidth\":0,\"ticks\":\"\"},\"colorscale\":[[0.0,\"#0d0887\"],[0.1111111111111111,\"#46039f\"],[0.2222222222222222,\"#7201a8\"],[0.3333333333333333,\"#9c179e\"],[0.4444444444444444,\"#bd3786\"],[0.5555555555555556,\"#d8576b\"],[0.6666666666666666,\"#ed7953\"],[0.7777777777777778,\"#fb9f3a\"],[0.8888888888888888,\"#fdca26\"],[1.0,\"#f0f921\"]]}],\"mesh3d\":[{\"type\":\"mesh3d\",\"colorbar\":{\"outlinewidth\":0,\"ticks\":\"\"}}],\"scatter\":[{\"fillpattern\":{\"fillmode\":\"overlay\",\"size\":10,\"solidity\":0.2},\"type\":\"scatter\"}],\"parcoords\":[{\"type\":\"parcoords\",\"line\":{\"colorbar\":{\"outlinewidth\":0,\"ticks\":\"\"}}}],\"scatterpolargl\":[{\"type\":\"scatterpolargl\",\"marker\":{\"colorbar\":{\"outlinewidth\":0,\"ticks\":\"\"}}}],\"bar\":[{\"error_x\":{\"color\":\"#2a3f5f\"},\"error_y\":{\"color\":\"#2a3f5f\"},\"marker\":{\"line\":{\"color\":\"#E5ECF6\",\"width\":0.5},\"pattern\":{\"fillmode\":\"overlay\",\"size\":10,\"solidity\":0.2}},\"type\":\"bar\"}],\"scattergeo\":[{\"type\":\"scattergeo\",\"marker\":{\"colorbar\":{\"outlinewidth\":0,\"ticks\":\"\"}}}],\"scatterpolar\":[{\"type\":\"scatterpolar\",\"marker\":{\"colorbar\":{\"outlinewidth\":0,\"ticks\":\"\"}}}],\"histogram\":[{\"marker\":{\"pattern\":{\"fillmode\":\"overlay\",\"size\":10,\"solidity\":0.2}},\"type\":\"histogram\"}],\"scattergl\":[{\"type\":\"scattergl\",\"marker\":{\"colorbar\":{\"outlinewidth\":0,\"ticks\":\"\"}}}],\"scatter3d\":[{\"type\":\"scatter3d\",\"line\":{\"colorbar\":{\"outlinewidth\":0,\"ticks\":\"\"}},\"marker\":{\"colorbar\":{\"outlinewidth\":0,\"ticks\":\"\"}}}],\"scattermapbox\":[{\"type\":\"scattermapbox\",\"marker\":{\"colorbar\":{\"outlinewidth\":0,\"ticks\":\"\"}}}],\"scatterternary\":[{\"type\":\"scatterternary\",\"marker\":{\"colorbar\":{\"outlinewidth\":0,\"ticks\":\"\"}}}],\"scattercarpet\":[{\"type\":\"scattercarpet\",\"marker\":{\"colorbar\":{\"outlinewidth\":0,\"ticks\":\"\"}}}],\"carpet\":[{\"aaxis\":{\"endlinecolor\":\"#2a3f5f\",\"gridcolor\":\"white\",\"linecolor\":\"white\",\"minorgridcolor\":\"white\",\"startlinecolor\":\"#2a3f5f\"},\"baxis\":{\"endlinecolor\":\"#2a3f5f\",\"gridcolor\":\"white\",\"linecolor\":\"white\",\"minorgridcolor\":\"white\",\"startlinecolor\":\"#2a3f5f\"},\"type\":\"carpet\"}],\"table\":[{\"cells\":{\"fill\":{\"color\":\"#EBF0F8\"},\"line\":{\"color\":\"white\"}},\"header\":{\"fill\":{\"color\":\"#C8D4E3\"},\"line\":{\"color\":\"white\"}},\"type\":\"table\"}],\"barpolar\":[{\"marker\":{\"line\":{\"color\":\"#E5ECF6\",\"width\":0.5},\"pattern\":{\"fillmode\":\"overlay\",\"size\":10,\"solidity\":0.2}},\"type\":\"barpolar\"}],\"pie\":[{\"automargin\":true,\"type\":\"pie\"}]},\"layout\":{\"autotypenumbers\":\"strict\",\"colorway\":[\"#636efa\",\"#EF553B\",\"#00cc96\",\"#ab63fa\",\"#FFA15A\",\"#19d3f3\",\"#FF6692\",\"#B6E880\",\"#FF97FF\",\"#FECB52\"],\"font\":{\"color\":\"#2a3f5f\"},\"hovermode\":\"closest\",\"hoverlabel\":{\"align\":\"left\"},\"paper_bgcolor\":\"white\",\"plot_bgcolor\":\"#E5ECF6\",\"polar\":{\"bgcolor\":\"#E5ECF6\",\"angularaxis\":{\"gridcolor\":\"white\",\"linecolor\":\"white\",\"ticks\":\"\"},\"radialaxis\":{\"gridcolor\":\"white\",\"linecolor\":\"white\",\"ticks\":\"\"}},\"ternary\":{\"bgcolor\":\"#E5ECF6\",\"aaxis\":{\"gridcolor\":\"white\",\"linecolor\":\"white\",\"ticks\":\"\"},\"baxis\":{\"gridcolor\":\"white\",\"linecolor\":\"white\",\"ticks\":\"\"},\"caxis\":{\"gridcolor\":\"white\",\"linecolor\":\"white\",\"ticks\":\"\"}},\"coloraxis\":{\"colorbar\":{\"outlinewidth\":0,\"ticks\":\"\"}},\"colorscale\":{\"sequential\":[[0.0,\"#0d0887\"],[0.1111111111111111,\"#46039f\"],[0.2222222222222222,\"#7201a8\"],[0.3333333333333333,\"#9c179e\"],[0.4444444444444444,\"#bd3786\"],[0.5555555555555556,\"#d8576b\"],[0.6666666666666666,\"#ed7953\"],[0.7777777777777778,\"#fb9f3a\"],[0.8888888888888888,\"#fdca26\"],[1.0,\"#f0f921\"]],\"sequentialminus\":[[0.0,\"#0d0887\"],[0.1111111111111111,\"#46039f\"],[0.2222222222222222,\"#7201a8\"],[0.3333333333333333,\"#9c179e\"],[0.4444444444444444,\"#bd3786\"],[0.5555555555555556,\"#d8576b\"],[0.6666666666666666,\"#ed7953\"],[0.7777777777777778,\"#fb9f3a\"],[0.8888888888888888,\"#fdca26\"],[1.0,\"#f0f921\"]],\"diverging\":[[0,\"#8e0152\"],[0.1,\"#c51b7d\"],[0.2,\"#de77ae\"],[0.3,\"#f1b6da\"],[0.4,\"#fde0ef\"],[0.5,\"#f7f7f7\"],[0.6,\"#e6f5d0\"],[0.7,\"#b8e186\"],[0.8,\"#7fbc41\"],[0.9,\"#4d9221\"],[1,\"#276419\"]]},\"xaxis\":{\"gridcolor\":\"white\",\"linecolor\":\"white\",\"ticks\":\"\",\"title\":{\"standoff\":15},\"zerolinecolor\":\"white\",\"automargin\":true,\"zerolinewidth\":2},\"yaxis\":{\"gridcolor\":\"white\",\"linecolor\":\"white\",\"ticks\":\"\",\"title\":{\"standoff\":15},\"zerolinecolor\":\"white\",\"automargin\":true,\"zerolinewidth\":2},\"scene\":{\"xaxis\":{\"backgroundcolor\":\"#E5ECF6\",\"gridcolor\":\"white\",\"linecolor\":\"white\",\"showbackground\":true,\"ticks\":\"\",\"zerolinecolor\":\"white\",\"gridwidth\":2},\"yaxis\":{\"backgroundcolor\":\"#E5ECF6\",\"gridcolor\":\"white\",\"linecolor\":\"white\",\"showbackground\":true,\"ticks\":\"\",\"zerolinecolor\":\"white\",\"gridwidth\":2},\"zaxis\":{\"backgroundcolor\":\"#E5ECF6\",\"gridcolor\":\"white\",\"linecolor\":\"white\",\"showbackground\":true,\"ticks\":\"\",\"zerolinecolor\":\"white\",\"gridwidth\":2}},\"shapedefaults\":{\"line\":{\"color\":\"#2a3f5f\"}},\"annotationdefaults\":{\"arrowcolor\":\"#2a3f5f\",\"arrowhead\":0,\"arrowwidth\":1},\"geo\":{\"bgcolor\":\"white\",\"landcolor\":\"#E5ECF6\",\"subunitcolor\":\"white\",\"showland\":true,\"showlakes\":true,\"lakecolor\":\"white\"},\"title\":{\"x\":0.05},\"mapbox\":{\"style\":\"light\"}}},\"xaxis\":{\"anchor\":\"y\",\"domain\":[0.0,1.0],\"title\":{\"text\":\"Average_Pulse\"}},\"yaxis\":{\"anchor\":\"x\",\"domain\":[0.0,1.0],\"title\":{\"text\":\"Calorie_Burnage\"}},\"legend\":{\"tracegroupgap\":0},\"margin\":{\"t\":60}},                        {\"responsive\": true}                    ).then(function(){\n",
              "                            \n",
              "var gd = document.getElementById('b75c7488-e6b9-4904-8c83-7e054ff74821');\n",
              "var x = new MutationObserver(function (mutations, observer) {{\n",
              "        var display = window.getComputedStyle(gd).display;\n",
              "        if (!display || display === 'none') {{\n",
              "            console.log([gd, 'removed!']);\n",
              "            Plotly.purge(gd);\n",
              "            observer.disconnect();\n",
              "        }}\n",
              "}});\n",
              "\n",
              "// Listen for the removal of the full notebook cells\n",
              "var notebookContainer = gd.closest('#notebook-container');\n",
              "if (notebookContainer) {{\n",
              "    x.observe(notebookContainer, {childList: true});\n",
              "}}\n",
              "\n",
              "// Listen for the clearing of the current output cell\n",
              "var outputEl = gd.closest('.output');\n",
              "if (outputEl) {{\n",
              "    x.observe(outputEl, {childList: true});\n",
              "}}\n",
              "\n",
              "                        })                };                            </script>        </div>\n",
              "</body>\n",
              "</html>"
            ]
          },
          "metadata": {}
        }
      ],
      "source": [
        "!pip install seaborn plotly\n",
        "\n",
        "import numpy as np\n",
        "import plotly.express as px\n",
        "import plotly.graph_objects as go\n",
        "from sklearn.linear_model import LinearRegression\n",
        "\n",
        "df = full_health_data\n",
        "X = df.Average_Pulse.values.reshape(-1, 1)\n",
        "\n",
        "model = LinearRegression()\n",
        "model.fit(X, df.Calorie_Burnage)\n",
        "\n",
        "x_range = np.linspace(X.min(), X.max(), 100)\n",
        "y_range = model.predict(x_range.reshape(-1, 1))\n",
        "\n",
        "fig = px.scatter(df, x='Average_Pulse', y='Calorie_Burnage', opacity=0.65)\n",
        "fig.add_traces(go.Scatter(x=x_range, y=y_range, name='Regression Fit'))\n",
        "fig.show()"
      ]
    },
    {
      "cell_type": "markdown",
      "metadata": {
        "id": "cvc54vMAaVMM"
      },
      "source": [
        "#### Question:\n",
        "\n",
        "We have seen earlier how to apply a simple regression model for predicting Calorie_Burnage from Average_Pulse. There might be another candidate Duration in addition to Average_Pulse. You will need to repeat the above linear regression process to find relationsthip between Calorie_Burnage and Duration.\n",
        "\n",
        "Comment on the both regression lines: Calorie_Burnage - Average_Pulse and Calorie_Burnage - Duration."
      ]
    },
    {
      "cell_type": "code",
      "execution_count": null,
      "metadata": {
        "id": "kUpYZgaOaVMM"
      },
      "outputs": [],
      "source": []
    }
  ],
  "metadata": {
    "kernelspec": {
      "display_name": ".venv",
      "language": "python",
      "name": "python3"
    },
    "language_info": {
      "codemirror_mode": {
        "name": "ipython",
        "version": 3
      },
      "file_extension": ".py",
      "mimetype": "text/x-python",
      "name": "python",
      "nbconvert_exporter": "python",
      "pygments_lexer": "ipython3",
      "version": "3.10.9"
    },
    "colab": {
      "provenance": []
    }
  },
  "nbformat": 4,
  "nbformat_minor": 0
}